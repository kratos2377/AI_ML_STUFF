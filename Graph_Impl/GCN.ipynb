{
  "nbformat": 4,
  "nbformat_minor": 0,
  "metadata": {
    "colab": {
      "provenance": []
    },
    "kernelspec": {
      "name": "python3",
      "display_name": "Python 3"
    },
    "language_info": {
      "name": "python"
    }
  },
  "cells": [
    {
      "cell_type": "code",
      "execution_count": null,
      "metadata": {
        "id": "rZCy1m_mnI_o"
      },
      "outputs": [],
      "source": [
        "!pip install stellargraph"
      ]
    },
    {
      "cell_type": "code",
      "source": [
        "import sys\n",
        "import stellargraph as sg\n",
        "import pandas as pd\n",
        "import os\n",
        "from stellargraph.mapper import FullBatchNodeGenerator\n",
        "from stellargraph.layer import GCN\n",
        "\n",
        "from tensorflow.keras import layers, optimizers, losses, metrics, Model\n",
        "from tensorflow.keras.callbacks import EarlyStopping\n",
        "from sklearn import preprocessing, model_selection\n",
        "from sklearn.decomposition import PCA\n",
        "from sklearn.manifold import TSNE\n",
        "from IPython.display import display, HTML\n",
        "import matplotlib.pyplot as plt\n",
        "%matplotlib inline\n"
      ],
      "metadata": {
        "id": "WFu_Pb6ine1D"
      },
      "execution_count": 2,
      "outputs": []
    },
    {
      "cell_type": "code",
      "source": [
        "dataset = sg.datasets.Cora()\n",
        "display(HTML(dataset.description))\n",
        "G, node_subjects = dataset.load()"
      ],
      "metadata": {
        "colab": {
          "base_uri": "https://localhost:8080/",
          "height": 52
        },
        "id": "xU5aD2vgnrzN",
        "outputId": "690d3039-3819-428f-a8ad-6e8e5ab3304a"
      },
      "execution_count": 3,
      "outputs": [
        {
          "output_type": "display_data",
          "data": {
            "text/plain": [
              "<IPython.core.display.HTML object>"
            ],
            "text/html": [
              "The Cora dataset consists of 2708 scientific publications classified into one of seven classes. The citation network consists of 5429 links. Each publication in the dataset is described by a 0/1-valued word vector indicating the absence/presence of the corresponding word from the dictionary. The dictionary consists of 1433 unique words."
            ]
          },
          "metadata": {}
        }
      ]
    },
    {
      "cell_type": "code",
      "source": [
        "print(G.info())"
      ],
      "metadata": {
        "colab": {
          "base_uri": "https://localhost:8080/"
        },
        "id": "Ek8Y4S1gnxNy",
        "outputId": "32e9a9ff-1339-4001-e76c-e59fc0d724a8"
      },
      "execution_count": 4,
      "outputs": [
        {
          "output_type": "stream",
          "name": "stdout",
          "text": [
            "StellarGraph: Undirected multigraph\n",
            " Nodes: 2708, Edges: 5429\n",
            "\n",
            " Node types:\n",
            "  paper: [2708]\n",
            "    Features: float32 vector, length 1433\n",
            "    Edge types: paper-cites->paper\n",
            "\n",
            " Edge types:\n",
            "    paper-cites->paper: [5429]\n",
            "        Weights: all 1 (default)\n",
            "        Features: none\n"
          ]
        }
      ]
    },
    {
      "cell_type": "code",
      "source": [
        "node_subjects.value_counts().to_frame()"
      ],
      "metadata": {
        "colab": {
          "base_uri": "https://localhost:8080/",
          "height": 269
        },
        "id": "HNRPTuLonyzL",
        "outputId": "156b32a5-bfa6-4444-9418-6fb76c5fe045"
      },
      "execution_count": 5,
      "outputs": [
        {
          "output_type": "execute_result",
          "data": {
            "text/plain": [
              "                        subject\n",
              "Neural_Networks             818\n",
              "Probabilistic_Methods       426\n",
              "Genetic_Algorithms          418\n",
              "Theory                      351\n",
              "Case_Based                  298\n",
              "Reinforcement_Learning      217\n",
              "Rule_Learning               180"
            ],
            "text/html": [
              "\n",
              "  <div id=\"df-8c2e27aa-2334-43d2-90d5-2f343b23dfa5\">\n",
              "    <div class=\"colab-df-container\">\n",
              "      <div>\n",
              "<style scoped>\n",
              "    .dataframe tbody tr th:only-of-type {\n",
              "        vertical-align: middle;\n",
              "    }\n",
              "\n",
              "    .dataframe tbody tr th {\n",
              "        vertical-align: top;\n",
              "    }\n",
              "\n",
              "    .dataframe thead th {\n",
              "        text-align: right;\n",
              "    }\n",
              "</style>\n",
              "<table border=\"1\" class=\"dataframe\">\n",
              "  <thead>\n",
              "    <tr style=\"text-align: right;\">\n",
              "      <th></th>\n",
              "      <th>subject</th>\n",
              "    </tr>\n",
              "  </thead>\n",
              "  <tbody>\n",
              "    <tr>\n",
              "      <th>Neural_Networks</th>\n",
              "      <td>818</td>\n",
              "    </tr>\n",
              "    <tr>\n",
              "      <th>Probabilistic_Methods</th>\n",
              "      <td>426</td>\n",
              "    </tr>\n",
              "    <tr>\n",
              "      <th>Genetic_Algorithms</th>\n",
              "      <td>418</td>\n",
              "    </tr>\n",
              "    <tr>\n",
              "      <th>Theory</th>\n",
              "      <td>351</td>\n",
              "    </tr>\n",
              "    <tr>\n",
              "      <th>Case_Based</th>\n",
              "      <td>298</td>\n",
              "    </tr>\n",
              "    <tr>\n",
              "      <th>Reinforcement_Learning</th>\n",
              "      <td>217</td>\n",
              "    </tr>\n",
              "    <tr>\n",
              "      <th>Rule_Learning</th>\n",
              "      <td>180</td>\n",
              "    </tr>\n",
              "  </tbody>\n",
              "</table>\n",
              "</div>\n",
              "      <button class=\"colab-df-convert\" onclick=\"convertToInteractive('df-8c2e27aa-2334-43d2-90d5-2f343b23dfa5')\"\n",
              "              title=\"Convert this dataframe to an interactive table.\"\n",
              "              style=\"display:none;\">\n",
              "        \n",
              "  <svg xmlns=\"http://www.w3.org/2000/svg\" height=\"24px\"viewBox=\"0 0 24 24\"\n",
              "       width=\"24px\">\n",
              "    <path d=\"M0 0h24v24H0V0z\" fill=\"none\"/>\n",
              "    <path d=\"M18.56 5.44l.94 2.06.94-2.06 2.06-.94-2.06-.94-.94-2.06-.94 2.06-2.06.94zm-11 1L8.5 8.5l.94-2.06 2.06-.94-2.06-.94L8.5 2.5l-.94 2.06-2.06.94zm10 10l.94 2.06.94-2.06 2.06-.94-2.06-.94-.94-2.06-.94 2.06-2.06.94z\"/><path d=\"M17.41 7.96l-1.37-1.37c-.4-.4-.92-.59-1.43-.59-.52 0-1.04.2-1.43.59L10.3 9.45l-7.72 7.72c-.78.78-.78 2.05 0 2.83L4 21.41c.39.39.9.59 1.41.59.51 0 1.02-.2 1.41-.59l7.78-7.78 2.81-2.81c.8-.78.8-2.07 0-2.86zM5.41 20L4 18.59l7.72-7.72 1.47 1.35L5.41 20z\"/>\n",
              "  </svg>\n",
              "      </button>\n",
              "      \n",
              "  <style>\n",
              "    .colab-df-container {\n",
              "      display:flex;\n",
              "      flex-wrap:wrap;\n",
              "      gap: 12px;\n",
              "    }\n",
              "\n",
              "    .colab-df-convert {\n",
              "      background-color: #E8F0FE;\n",
              "      border: none;\n",
              "      border-radius: 50%;\n",
              "      cursor: pointer;\n",
              "      display: none;\n",
              "      fill: #1967D2;\n",
              "      height: 32px;\n",
              "      padding: 0 0 0 0;\n",
              "      width: 32px;\n",
              "    }\n",
              "\n",
              "    .colab-df-convert:hover {\n",
              "      background-color: #E2EBFA;\n",
              "      box-shadow: 0px 1px 2px rgba(60, 64, 67, 0.3), 0px 1px 3px 1px rgba(60, 64, 67, 0.15);\n",
              "      fill: #174EA6;\n",
              "    }\n",
              "\n",
              "    [theme=dark] .colab-df-convert {\n",
              "      background-color: #3B4455;\n",
              "      fill: #D2E3FC;\n",
              "    }\n",
              "\n",
              "    [theme=dark] .colab-df-convert:hover {\n",
              "      background-color: #434B5C;\n",
              "      box-shadow: 0px 1px 3px 1px rgba(0, 0, 0, 0.15);\n",
              "      filter: drop-shadow(0px 1px 2px rgba(0, 0, 0, 0.3));\n",
              "      fill: #FFFFFF;\n",
              "    }\n",
              "  </style>\n",
              "\n",
              "      <script>\n",
              "        const buttonEl =\n",
              "          document.querySelector('#df-8c2e27aa-2334-43d2-90d5-2f343b23dfa5 button.colab-df-convert');\n",
              "        buttonEl.style.display =\n",
              "          google.colab.kernel.accessAllowed ? 'block' : 'none';\n",
              "\n",
              "        async function convertToInteractive(key) {\n",
              "          const element = document.querySelector('#df-8c2e27aa-2334-43d2-90d5-2f343b23dfa5');\n",
              "          const dataTable =\n",
              "            await google.colab.kernel.invokeFunction('convertToInteractive',\n",
              "                                                     [key], {});\n",
              "          if (!dataTable) return;\n",
              "\n",
              "          const docLinkHtml = 'Like what you see? Visit the ' +\n",
              "            '<a target=\"_blank\" href=https://colab.research.google.com/notebooks/data_table.ipynb>data table notebook</a>'\n",
              "            + ' to learn more about interactive tables.';\n",
              "          element.innerHTML = '';\n",
              "          dataTable['output_type'] = 'display_data';\n",
              "          await google.colab.output.renderOutput(dataTable, element);\n",
              "          const docLink = document.createElement('div');\n",
              "          docLink.innerHTML = docLinkHtml;\n",
              "          element.appendChild(docLink);\n",
              "        }\n",
              "      </script>\n",
              "    </div>\n",
              "  </div>\n",
              "  "
            ]
          },
          "metadata": {},
          "execution_count": 5
        }
      ]
    },
    {
      "cell_type": "code",
      "source": [
        "train_subjects, test_subjects = model_selection.train_test_split(\n",
        "    node_subjects, train_size=140, test_size=None, stratify=node_subjects\n",
        ")\n",
        "val_subjects, test_subjects = model_selection.train_test_split(\n",
        "    test_subjects, train_size=500, test_size=None, stratify=test_subjects\n",
        ")\n"
      ],
      "metadata": {
        "id": "F9fMCd7pn1Bd"
      },
      "execution_count": 6,
      "outputs": []
    },
    {
      "cell_type": "code",
      "source": [
        "train_subjects.value_counts().to_frame()"
      ],
      "metadata": {
        "colab": {
          "base_uri": "https://localhost:8080/",
          "height": 269
        },
        "id": "Y5-ngVTqn2xD",
        "outputId": "b3c9d2c6-f8ab-4f28-a6cb-f7825a6b7887"
      },
      "execution_count": 7,
      "outputs": [
        {
          "output_type": "execute_result",
          "data": {
            "text/plain": [
              "                        subject\n",
              "Neural_Networks              42\n",
              "Probabilistic_Methods        22\n",
              "Genetic_Algorithms           22\n",
              "Theory                       18\n",
              "Case_Based                   16\n",
              "Reinforcement_Learning       11\n",
              "Rule_Learning                 9"
            ],
            "text/html": [
              "\n",
              "  <div id=\"df-1de83c3d-f3a7-46c7-8241-ed9ec66ee7aa\">\n",
              "    <div class=\"colab-df-container\">\n",
              "      <div>\n",
              "<style scoped>\n",
              "    .dataframe tbody tr th:only-of-type {\n",
              "        vertical-align: middle;\n",
              "    }\n",
              "\n",
              "    .dataframe tbody tr th {\n",
              "        vertical-align: top;\n",
              "    }\n",
              "\n",
              "    .dataframe thead th {\n",
              "        text-align: right;\n",
              "    }\n",
              "</style>\n",
              "<table border=\"1\" class=\"dataframe\">\n",
              "  <thead>\n",
              "    <tr style=\"text-align: right;\">\n",
              "      <th></th>\n",
              "      <th>subject</th>\n",
              "    </tr>\n",
              "  </thead>\n",
              "  <tbody>\n",
              "    <tr>\n",
              "      <th>Neural_Networks</th>\n",
              "      <td>42</td>\n",
              "    </tr>\n",
              "    <tr>\n",
              "      <th>Probabilistic_Methods</th>\n",
              "      <td>22</td>\n",
              "    </tr>\n",
              "    <tr>\n",
              "      <th>Genetic_Algorithms</th>\n",
              "      <td>22</td>\n",
              "    </tr>\n",
              "    <tr>\n",
              "      <th>Theory</th>\n",
              "      <td>18</td>\n",
              "    </tr>\n",
              "    <tr>\n",
              "      <th>Case_Based</th>\n",
              "      <td>16</td>\n",
              "    </tr>\n",
              "    <tr>\n",
              "      <th>Reinforcement_Learning</th>\n",
              "      <td>11</td>\n",
              "    </tr>\n",
              "    <tr>\n",
              "      <th>Rule_Learning</th>\n",
              "      <td>9</td>\n",
              "    </tr>\n",
              "  </tbody>\n",
              "</table>\n",
              "</div>\n",
              "      <button class=\"colab-df-convert\" onclick=\"convertToInteractive('df-1de83c3d-f3a7-46c7-8241-ed9ec66ee7aa')\"\n",
              "              title=\"Convert this dataframe to an interactive table.\"\n",
              "              style=\"display:none;\">\n",
              "        \n",
              "  <svg xmlns=\"http://www.w3.org/2000/svg\" height=\"24px\"viewBox=\"0 0 24 24\"\n",
              "       width=\"24px\">\n",
              "    <path d=\"M0 0h24v24H0V0z\" fill=\"none\"/>\n",
              "    <path d=\"M18.56 5.44l.94 2.06.94-2.06 2.06-.94-2.06-.94-.94-2.06-.94 2.06-2.06.94zm-11 1L8.5 8.5l.94-2.06 2.06-.94-2.06-.94L8.5 2.5l-.94 2.06-2.06.94zm10 10l.94 2.06.94-2.06 2.06-.94-2.06-.94-.94-2.06-.94 2.06-2.06.94z\"/><path d=\"M17.41 7.96l-1.37-1.37c-.4-.4-.92-.59-1.43-.59-.52 0-1.04.2-1.43.59L10.3 9.45l-7.72 7.72c-.78.78-.78 2.05 0 2.83L4 21.41c.39.39.9.59 1.41.59.51 0 1.02-.2 1.41-.59l7.78-7.78 2.81-2.81c.8-.78.8-2.07 0-2.86zM5.41 20L4 18.59l7.72-7.72 1.47 1.35L5.41 20z\"/>\n",
              "  </svg>\n",
              "      </button>\n",
              "      \n",
              "  <style>\n",
              "    .colab-df-container {\n",
              "      display:flex;\n",
              "      flex-wrap:wrap;\n",
              "      gap: 12px;\n",
              "    }\n",
              "\n",
              "    .colab-df-convert {\n",
              "      background-color: #E8F0FE;\n",
              "      border: none;\n",
              "      border-radius: 50%;\n",
              "      cursor: pointer;\n",
              "      display: none;\n",
              "      fill: #1967D2;\n",
              "      height: 32px;\n",
              "      padding: 0 0 0 0;\n",
              "      width: 32px;\n",
              "    }\n",
              "\n",
              "    .colab-df-convert:hover {\n",
              "      background-color: #E2EBFA;\n",
              "      box-shadow: 0px 1px 2px rgba(60, 64, 67, 0.3), 0px 1px 3px 1px rgba(60, 64, 67, 0.15);\n",
              "      fill: #174EA6;\n",
              "    }\n",
              "\n",
              "    [theme=dark] .colab-df-convert {\n",
              "      background-color: #3B4455;\n",
              "      fill: #D2E3FC;\n",
              "    }\n",
              "\n",
              "    [theme=dark] .colab-df-convert:hover {\n",
              "      background-color: #434B5C;\n",
              "      box-shadow: 0px 1px 3px 1px rgba(0, 0, 0, 0.15);\n",
              "      filter: drop-shadow(0px 1px 2px rgba(0, 0, 0, 0.3));\n",
              "      fill: #FFFFFF;\n",
              "    }\n",
              "  </style>\n",
              "\n",
              "      <script>\n",
              "        const buttonEl =\n",
              "          document.querySelector('#df-1de83c3d-f3a7-46c7-8241-ed9ec66ee7aa button.colab-df-convert');\n",
              "        buttonEl.style.display =\n",
              "          google.colab.kernel.accessAllowed ? 'block' : 'none';\n",
              "\n",
              "        async function convertToInteractive(key) {\n",
              "          const element = document.querySelector('#df-1de83c3d-f3a7-46c7-8241-ed9ec66ee7aa');\n",
              "          const dataTable =\n",
              "            await google.colab.kernel.invokeFunction('convertToInteractive',\n",
              "                                                     [key], {});\n",
              "          if (!dataTable) return;\n",
              "\n",
              "          const docLinkHtml = 'Like what you see? Visit the ' +\n",
              "            '<a target=\"_blank\" href=https://colab.research.google.com/notebooks/data_table.ipynb>data table notebook</a>'\n",
              "            + ' to learn more about interactive tables.';\n",
              "          element.innerHTML = '';\n",
              "          dataTable['output_type'] = 'display_data';\n",
              "          await google.colab.output.renderOutput(dataTable, element);\n",
              "          const docLink = document.createElement('div');\n",
              "          docLink.innerHTML = docLinkHtml;\n",
              "          element.appendChild(docLink);\n",
              "        }\n",
              "      </script>\n",
              "    </div>\n",
              "  </div>\n",
              "  "
            ]
          },
          "metadata": {},
          "execution_count": 7
        }
      ]
    },
    {
      "cell_type": "code",
      "source": [
        "target_encoding = preprocessing.LabelBinarizer()\n",
        "\n",
        "train_targets = target_encoding.fit_transform(train_subjects)\n",
        "val_targets = target_encoding.transform(val_subjects)\n",
        "test_targets = target_encoding.transform(test_subjects)"
      ],
      "metadata": {
        "id": "ZM2zkpRbn5N8"
      },
      "execution_count": 8,
      "outputs": []
    },
    {
      "cell_type": "code",
      "source": [
        "generator = FullBatchNodeGenerator(G, method=\"gcn\")"
      ],
      "metadata": {
        "colab": {
          "base_uri": "https://localhost:8080/"
        },
        "id": "N_uK-Snwn7nM",
        "outputId": "9bd44da5-0718-466d-a615-592ae07fd50d"
      },
      "execution_count": 9,
      "outputs": [
        {
          "output_type": "stream",
          "name": "stdout",
          "text": [
            "Using GCN (local pooling) filters...\n"
          ]
        }
      ]
    },
    {
      "cell_type": "code",
      "source": [
        "train_gen = generator.flow(train_subjects.index, train_targets)"
      ],
      "metadata": {
        "id": "jmze4KSCoEpt"
      },
      "execution_count": 10,
      "outputs": []
    },
    {
      "cell_type": "code",
      "source": [
        "gcn = GCN(\n",
        "    layer_sizes=[16, 16], activations=[\"relu\", \"relu\"], generator=generator, dropout=0.5\n",
        ")"
      ],
      "metadata": {
        "id": "LzEk1VlcoGnb"
      },
      "execution_count": 11,
      "outputs": []
    },
    {
      "cell_type": "code",
      "source": [
        "x_inp, x_out = gcn.in_out_tensors()\n",
        "\n",
        "x_out"
      ],
      "metadata": {
        "colab": {
          "base_uri": "https://localhost:8080/"
        },
        "id": "dupHpfwmoIE7",
        "outputId": "94b5e714-1831-4d33-864c-37eb6e677c90"
      },
      "execution_count": 12,
      "outputs": [
        {
          "output_type": "execute_result",
          "data": {
            "text/plain": [
              "<KerasTensor: shape=(1, None, 16) dtype=float32 (created by layer 'gather_indices')>"
            ]
          },
          "metadata": {},
          "execution_count": 12
        }
      ]
    },
    {
      "cell_type": "code",
      "source": [
        "predictions = layers.Dense(units=train_targets.shape[1], activation=\"softmax\")(x_out)"
      ],
      "metadata": {
        "id": "mxaMFntaoJ4H"
      },
      "execution_count": 13,
      "outputs": []
    },
    {
      "cell_type": "code",
      "source": [
        "model = Model(inputs=x_inp, outputs=predictions)\n",
        "model.compile(\n",
        "    optimizer=optimizers.Adam(lr=0.01),\n",
        "    loss=losses.categorical_crossentropy,\n",
        "    metrics=[\"acc\"],\n",
        ")"
      ],
      "metadata": {
        "colab": {
          "base_uri": "https://localhost:8080/"
        },
        "id": "PT2JASBnoMnZ",
        "outputId": "c6a294ea-fbdb-4347-fce4-fc1e6d8f54fd"
      },
      "execution_count": 14,
      "outputs": [
        {
          "output_type": "stream",
          "name": "stderr",
          "text": [
            "/usr/local/lib/python3.7/dist-packages/keras/optimizers/optimizer_v2/adam.py:110: UserWarning: The `lr` argument is deprecated, use `learning_rate` instead.\n",
            "  super(Adam, self).__init__(name, **kwargs)\n"
          ]
        }
      ]
    },
    {
      "cell_type": "code",
      "source": [
        "val_gen = generator.flow(val_subjects.index, val_targets)"
      ],
      "metadata": {
        "id": "pdYg76NOoOjv"
      },
      "execution_count": 15,
      "outputs": []
    },
    {
      "cell_type": "code",
      "source": [
        "\n",
        "es_callback = EarlyStopping(monitor=\"val_acc\", patience=50, restore_best_weights=True)\n",
        "history = model.fit(\n",
        "    train_gen,\n",
        "    epochs=200,\n",
        "    validation_data=val_gen,\n",
        "    verbose=2,\n",
        "    shuffle=False, \n",
        "    callbacks=[es_callback],\n",
        ")\n",
        "\n"
      ],
      "metadata": {
        "colab": {
          "base_uri": "https://localhost:8080/"
        },
        "id": "FIQnZ6XQoT0C",
        "outputId": "eb2c2416-1856-4dcb-9841-524ce30f507f"
      },
      "execution_count": 19,
      "outputs": [
        {
          "output_type": "stream",
          "name": "stdout",
          "text": [
            "Epoch 1/200\n",
            "1/1 - 2s - loss: 1.9434 - acc: 0.1214 - val_loss: 1.8940 - val_acc: 0.3000 - 2s/epoch - 2s/step\n",
            "Epoch 2/200\n",
            "1/1 - 0s - loss: 1.8744 - acc: 0.3500 - val_loss: 1.8384 - val_acc: 0.3040 - 135ms/epoch - 135ms/step\n",
            "Epoch 3/200\n",
            "1/1 - 0s - loss: 1.7989 - acc: 0.3500 - val_loss: 1.7760 - val_acc: 0.3100 - 127ms/epoch - 127ms/step\n",
            "Epoch 4/200\n",
            "1/1 - 0s - loss: 1.7216 - acc: 0.3643 - val_loss: 1.7126 - val_acc: 0.3160 - 126ms/epoch - 126ms/step\n",
            "Epoch 5/200\n",
            "1/1 - 0s - loss: 1.6194 - acc: 0.3714 - val_loss: 1.6449 - val_acc: 0.3420 - 129ms/epoch - 129ms/step\n",
            "Epoch 6/200\n",
            "1/1 - 0s - loss: 1.5269 - acc: 0.3929 - val_loss: 1.5742 - val_acc: 0.3720 - 129ms/epoch - 129ms/step\n",
            "Epoch 7/200\n",
            "1/1 - 0s - loss: 1.4740 - acc: 0.3857 - val_loss: 1.5023 - val_acc: 0.4100 - 125ms/epoch - 125ms/step\n",
            "Epoch 8/200\n",
            "1/1 - 0s - loss: 1.3551 - acc: 0.5071 - val_loss: 1.4344 - val_acc: 0.4320 - 131ms/epoch - 131ms/step\n",
            "Epoch 9/200\n",
            "1/1 - 0s - loss: 1.2339 - acc: 0.5929 - val_loss: 1.3696 - val_acc: 0.4680 - 133ms/epoch - 133ms/step\n",
            "Epoch 10/200\n",
            "1/1 - 0s - loss: 1.1859 - acc: 0.5643 - val_loss: 1.3074 - val_acc: 0.5200 - 128ms/epoch - 128ms/step\n",
            "Epoch 11/200\n",
            "1/1 - 0s - loss: 1.1185 - acc: 0.6214 - val_loss: 1.2487 - val_acc: 0.5860 - 127ms/epoch - 127ms/step\n",
            "Epoch 12/200\n",
            "1/1 - 0s - loss: 1.0258 - acc: 0.6429 - val_loss: 1.1942 - val_acc: 0.6300 - 127ms/epoch - 127ms/step\n",
            "Epoch 13/200\n",
            "1/1 - 0s - loss: 0.9141 - acc: 0.7143 - val_loss: 1.1458 - val_acc: 0.6620 - 129ms/epoch - 129ms/step\n",
            "Epoch 14/200\n",
            "1/1 - 0s - loss: 0.8700 - acc: 0.7571 - val_loss: 1.1013 - val_acc: 0.6900 - 129ms/epoch - 129ms/step\n",
            "Epoch 15/200\n",
            "1/1 - 0s - loss: 0.7954 - acc: 0.8000 - val_loss: 1.0612 - val_acc: 0.6940 - 133ms/epoch - 133ms/step\n",
            "Epoch 16/200\n",
            "1/1 - 0s - loss: 0.7311 - acc: 0.7786 - val_loss: 1.0273 - val_acc: 0.7020 - 130ms/epoch - 130ms/step\n",
            "Epoch 17/200\n",
            "1/1 - 0s - loss: 0.7181 - acc: 0.8071 - val_loss: 0.9979 - val_acc: 0.7160 - 130ms/epoch - 130ms/step\n",
            "Epoch 18/200\n",
            "1/1 - 0s - loss: 0.5939 - acc: 0.8500 - val_loss: 0.9722 - val_acc: 0.7140 - 129ms/epoch - 129ms/step\n",
            "Epoch 19/200\n",
            "1/1 - 0s - loss: 0.6037 - acc: 0.8071 - val_loss: 0.9509 - val_acc: 0.7220 - 124ms/epoch - 124ms/step\n",
            "Epoch 20/200\n",
            "1/1 - 0s - loss: 0.5451 - acc: 0.8214 - val_loss: 0.9357 - val_acc: 0.7260 - 128ms/epoch - 128ms/step\n",
            "Epoch 21/200\n",
            "1/1 - 0s - loss: 0.4843 - acc: 0.8571 - val_loss: 0.9231 - val_acc: 0.7340 - 122ms/epoch - 122ms/step\n",
            "Epoch 22/200\n",
            "1/1 - 0s - loss: 0.4332 - acc: 0.8714 - val_loss: 0.9110 - val_acc: 0.7300 - 137ms/epoch - 137ms/step\n",
            "Epoch 23/200\n",
            "1/1 - 0s - loss: 0.4336 - acc: 0.8786 - val_loss: 0.9025 - val_acc: 0.7500 - 123ms/epoch - 123ms/step\n",
            "Epoch 24/200\n",
            "1/1 - 0s - loss: 0.3946 - acc: 0.8857 - val_loss: 0.8956 - val_acc: 0.7580 - 123ms/epoch - 123ms/step\n",
            "Epoch 25/200\n",
            "1/1 - 0s - loss: 0.3415 - acc: 0.9000 - val_loss: 0.8951 - val_acc: 0.7640 - 126ms/epoch - 126ms/step\n",
            "Epoch 26/200\n",
            "1/1 - 0s - loss: 0.3297 - acc: 0.8857 - val_loss: 0.8963 - val_acc: 0.7660 - 127ms/epoch - 127ms/step\n",
            "Epoch 27/200\n",
            "1/1 - 0s - loss: 0.3427 - acc: 0.8857 - val_loss: 0.8963 - val_acc: 0.7680 - 126ms/epoch - 126ms/step\n",
            "Epoch 28/200\n",
            "1/1 - 0s - loss: 0.2658 - acc: 0.9214 - val_loss: 0.8909 - val_acc: 0.7800 - 138ms/epoch - 138ms/step\n",
            "Epoch 29/200\n",
            "1/1 - 0s - loss: 0.2729 - acc: 0.9357 - val_loss: 0.8838 - val_acc: 0.7800 - 127ms/epoch - 127ms/step\n",
            "Epoch 30/200\n",
            "1/1 - 0s - loss: 0.2323 - acc: 0.9571 - val_loss: 0.8796 - val_acc: 0.7860 - 125ms/epoch - 125ms/step\n",
            "Epoch 31/200\n",
            "1/1 - 0s - loss: 0.2412 - acc: 0.9500 - val_loss: 0.8765 - val_acc: 0.7860 - 123ms/epoch - 123ms/step\n",
            "Epoch 32/200\n",
            "1/1 - 0s - loss: 0.1539 - acc: 0.9714 - val_loss: 0.8799 - val_acc: 0.7840 - 126ms/epoch - 126ms/step\n",
            "Epoch 33/200\n",
            "1/1 - 0s - loss: 0.1957 - acc: 0.9500 - val_loss: 0.8822 - val_acc: 0.7840 - 127ms/epoch - 127ms/step\n",
            "Epoch 34/200\n",
            "1/1 - 0s - loss: 0.1601 - acc: 0.9643 - val_loss: 0.8850 - val_acc: 0.7820 - 123ms/epoch - 123ms/step\n",
            "Epoch 35/200\n",
            "1/1 - 0s - loss: 0.1809 - acc: 0.9643 - val_loss: 0.8924 - val_acc: 0.7820 - 140ms/epoch - 140ms/step\n",
            "Epoch 36/200\n",
            "1/1 - 0s - loss: 0.1365 - acc: 0.9714 - val_loss: 0.9033 - val_acc: 0.7900 - 124ms/epoch - 124ms/step\n",
            "Epoch 37/200\n",
            "1/1 - 0s - loss: 0.1447 - acc: 0.9571 - val_loss: 0.9196 - val_acc: 0.7920 - 122ms/epoch - 122ms/step\n",
            "Epoch 38/200\n",
            "1/1 - 0s - loss: 0.1202 - acc: 0.9714 - val_loss: 0.9345 - val_acc: 0.8040 - 123ms/epoch - 123ms/step\n",
            "Epoch 39/200\n",
            "1/1 - 0s - loss: 0.1516 - acc: 0.9571 - val_loss: 0.9511 - val_acc: 0.7980 - 122ms/epoch - 122ms/step\n",
            "Epoch 40/200\n",
            "1/1 - 0s - loss: 0.1386 - acc: 0.9643 - val_loss: 0.9665 - val_acc: 0.7960 - 127ms/epoch - 127ms/step\n",
            "Epoch 41/200\n",
            "1/1 - 0s - loss: 0.0707 - acc: 0.9929 - val_loss: 0.9860 - val_acc: 0.7920 - 126ms/epoch - 126ms/step\n",
            "Epoch 42/200\n",
            "1/1 - 0s - loss: 0.1146 - acc: 0.9714 - val_loss: 1.0040 - val_acc: 0.7940 - 128ms/epoch - 128ms/step\n",
            "Epoch 43/200\n",
            "1/1 - 0s - loss: 0.1505 - acc: 0.9429 - val_loss: 1.0189 - val_acc: 0.7920 - 126ms/epoch - 126ms/step\n",
            "Epoch 44/200\n",
            "1/1 - 0s - loss: 0.0712 - acc: 0.9714 - val_loss: 1.0359 - val_acc: 0.7960 - 128ms/epoch - 128ms/step\n",
            "Epoch 45/200\n",
            "1/1 - 0s - loss: 0.1021 - acc: 0.9786 - val_loss: 1.0529 - val_acc: 0.7960 - 133ms/epoch - 133ms/step\n",
            "Epoch 46/200\n",
            "1/1 - 0s - loss: 0.1020 - acc: 0.9643 - val_loss: 1.0706 - val_acc: 0.7960 - 124ms/epoch - 124ms/step\n",
            "Epoch 47/200\n",
            "1/1 - 0s - loss: 0.1132 - acc: 0.9500 - val_loss: 1.0917 - val_acc: 0.7880 - 124ms/epoch - 124ms/step\n",
            "Epoch 48/200\n",
            "1/1 - 0s - loss: 0.0622 - acc: 0.9929 - val_loss: 1.1153 - val_acc: 0.7800 - 132ms/epoch - 132ms/step\n",
            "Epoch 49/200\n",
            "1/1 - 0s - loss: 0.0825 - acc: 0.9714 - val_loss: 1.1309 - val_acc: 0.7800 - 129ms/epoch - 129ms/step\n",
            "Epoch 50/200\n",
            "1/1 - 0s - loss: 0.1096 - acc: 0.9714 - val_loss: 1.1357 - val_acc: 0.7820 - 122ms/epoch - 122ms/step\n",
            "Epoch 51/200\n",
            "1/1 - 0s - loss: 0.1051 - acc: 0.9786 - val_loss: 1.1308 - val_acc: 0.7900 - 144ms/epoch - 144ms/step\n",
            "Epoch 52/200\n",
            "1/1 - 0s - loss: 0.0539 - acc: 0.9929 - val_loss: 1.1251 - val_acc: 0.7920 - 128ms/epoch - 128ms/step\n",
            "Epoch 53/200\n",
            "1/1 - 0s - loss: 0.0521 - acc: 0.9857 - val_loss: 1.1173 - val_acc: 0.7900 - 127ms/epoch - 127ms/step\n",
            "Epoch 54/200\n",
            "1/1 - 0s - loss: 0.0371 - acc: 1.0000 - val_loss: 1.1146 - val_acc: 0.7820 - 139ms/epoch - 139ms/step\n",
            "Epoch 55/200\n",
            "1/1 - 0s - loss: 0.0951 - acc: 0.9643 - val_loss: 1.1085 - val_acc: 0.7820 - 137ms/epoch - 137ms/step\n",
            "Epoch 56/200\n",
            "1/1 - 0s - loss: 0.0465 - acc: 0.9929 - val_loss: 1.1062 - val_acc: 0.7820 - 125ms/epoch - 125ms/step\n",
            "Epoch 57/200\n",
            "1/1 - 0s - loss: 0.0533 - acc: 0.9929 - val_loss: 1.1047 - val_acc: 0.7800 - 129ms/epoch - 129ms/step\n",
            "Epoch 58/200\n",
            "1/1 - 0s - loss: 0.0830 - acc: 0.9643 - val_loss: 1.1004 - val_acc: 0.7820 - 130ms/epoch - 130ms/step\n",
            "Epoch 59/200\n",
            "1/1 - 0s - loss: 0.0600 - acc: 0.9786 - val_loss: 1.0995 - val_acc: 0.7960 - 129ms/epoch - 129ms/step\n",
            "Epoch 60/200\n",
            "1/1 - 0s - loss: 0.0575 - acc: 0.9929 - val_loss: 1.1035 - val_acc: 0.7980 - 131ms/epoch - 131ms/step\n",
            "Epoch 61/200\n",
            "1/1 - 0s - loss: 0.0597 - acc: 0.9714 - val_loss: 1.1123 - val_acc: 0.7940 - 123ms/epoch - 123ms/step\n",
            "Epoch 62/200\n",
            "1/1 - 0s - loss: 0.0638 - acc: 0.9857 - val_loss: 1.1240 - val_acc: 0.7900 - 134ms/epoch - 134ms/step\n",
            "Epoch 63/200\n",
            "1/1 - 0s - loss: 0.0303 - acc: 0.9929 - val_loss: 1.1370 - val_acc: 0.7940 - 126ms/epoch - 126ms/step\n",
            "Epoch 64/200\n",
            "1/1 - 0s - loss: 0.0420 - acc: 1.0000 - val_loss: 1.1519 - val_acc: 0.7920 - 126ms/epoch - 126ms/step\n",
            "Epoch 65/200\n",
            "1/1 - 0s - loss: 0.0724 - acc: 0.9786 - val_loss: 1.1668 - val_acc: 0.7920 - 130ms/epoch - 130ms/step\n",
            "Epoch 66/200\n",
            "1/1 - 0s - loss: 0.0583 - acc: 0.9857 - val_loss: 1.1761 - val_acc: 0.7960 - 123ms/epoch - 123ms/step\n",
            "Epoch 67/200\n",
            "1/1 - 0s - loss: 0.0344 - acc: 0.9929 - val_loss: 1.1869 - val_acc: 0.7940 - 121ms/epoch - 121ms/step\n",
            "Epoch 68/200\n",
            "1/1 - 0s - loss: 0.0488 - acc: 0.9857 - val_loss: 1.1916 - val_acc: 0.7940 - 125ms/epoch - 125ms/step\n",
            "Epoch 69/200\n",
            "1/1 - 0s - loss: 0.0402 - acc: 0.9929 - val_loss: 1.1915 - val_acc: 0.7880 - 135ms/epoch - 135ms/step\n",
            "Epoch 70/200\n",
            "1/1 - 0s - loss: 0.0455 - acc: 0.9857 - val_loss: 1.1957 - val_acc: 0.7920 - 123ms/epoch - 123ms/step\n",
            "Epoch 71/200\n",
            "1/1 - 0s - loss: 0.0324 - acc: 0.9929 - val_loss: 1.2005 - val_acc: 0.7880 - 123ms/epoch - 123ms/step\n",
            "Epoch 72/200\n",
            "1/1 - 0s - loss: 0.0461 - acc: 0.9786 - val_loss: 1.2066 - val_acc: 0.7860 - 129ms/epoch - 129ms/step\n",
            "Epoch 73/200\n",
            "1/1 - 0s - loss: 0.0336 - acc: 0.9857 - val_loss: 1.2089 - val_acc: 0.7880 - 133ms/epoch - 133ms/step\n",
            "Epoch 74/200\n",
            "1/1 - 0s - loss: 0.0772 - acc: 0.9857 - val_loss: 1.2102 - val_acc: 0.7900 - 124ms/epoch - 124ms/step\n",
            "Epoch 75/200\n",
            "1/1 - 0s - loss: 0.0304 - acc: 0.9929 - val_loss: 1.2099 - val_acc: 0.7920 - 126ms/epoch - 126ms/step\n",
            "Epoch 76/200\n",
            "1/1 - 0s - loss: 0.0250 - acc: 1.0000 - val_loss: 1.2104 - val_acc: 0.7920 - 135ms/epoch - 135ms/step\n",
            "Epoch 77/200\n",
            "1/1 - 0s - loss: 0.0480 - acc: 0.9786 - val_loss: 1.2092 - val_acc: 0.7940 - 123ms/epoch - 123ms/step\n",
            "Epoch 78/200\n",
            "1/1 - 0s - loss: 0.0526 - acc: 0.9857 - val_loss: 1.2050 - val_acc: 0.7920 - 122ms/epoch - 122ms/step\n",
            "Epoch 79/200\n",
            "1/1 - 0s - loss: 0.0630 - acc: 0.9786 - val_loss: 1.1999 - val_acc: 0.7980 - 125ms/epoch - 125ms/step\n",
            "Epoch 80/200\n",
            "1/1 - 0s - loss: 0.0601 - acc: 0.9857 - val_loss: 1.1974 - val_acc: 0.7980 - 142ms/epoch - 142ms/step\n",
            "Epoch 81/200\n",
            "1/1 - 0s - loss: 0.0574 - acc: 0.9786 - val_loss: 1.1993 - val_acc: 0.7960 - 122ms/epoch - 122ms/step\n",
            "Epoch 82/200\n",
            "1/1 - 0s - loss: 0.0229 - acc: 1.0000 - val_loss: 1.2019 - val_acc: 0.7940 - 127ms/epoch - 127ms/step\n",
            "Epoch 83/200\n",
            "1/1 - 0s - loss: 0.0455 - acc: 0.9857 - val_loss: 1.2051 - val_acc: 0.7960 - 135ms/epoch - 135ms/step\n",
            "Epoch 84/200\n",
            "1/1 - 0s - loss: 0.0579 - acc: 0.9714 - val_loss: 1.2096 - val_acc: 0.7980 - 125ms/epoch - 125ms/step\n",
            "Epoch 85/200\n",
            "1/1 - 0s - loss: 0.0302 - acc: 0.9929 - val_loss: 1.2168 - val_acc: 0.7980 - 128ms/epoch - 128ms/step\n",
            "Epoch 86/200\n",
            "1/1 - 0s - loss: 0.0426 - acc: 0.9857 - val_loss: 1.2241 - val_acc: 0.7900 - 129ms/epoch - 129ms/step\n",
            "Epoch 87/200\n",
            "1/1 - 0s - loss: 0.0162 - acc: 1.0000 - val_loss: 1.2318 - val_acc: 0.7820 - 125ms/epoch - 125ms/step\n",
            "Epoch 88/200\n",
            "1/1 - 0s - loss: 0.0147 - acc: 1.0000 - val_loss: 1.2409 - val_acc: 0.7780 - 131ms/epoch - 131ms/step\n"
          ]
        }
      ]
    },
    {
      "cell_type": "code",
      "source": [
        "\n",
        "\n",
        "sg.utils.plot_history(history)\n",
        "\n"
      ],
      "metadata": {
        "colab": {
          "base_uri": "https://localhost:8080/",
          "height": 585
        },
        "id": "bqwfIX7roWb-",
        "outputId": "f117bdb3-082a-44f2-aadb-6b5d6904e5e1"
      },
      "execution_count": 20,
      "outputs": [
        {
          "output_type": "display_data",
          "data": {
            "text/plain": [
              "<Figure size 504x576 with 2 Axes>"
            ],
            "image/png": "[encoded data removed]"
          },
          "metadata": {
            "needs_background": "light"
          }
        }
      ]
    },
    {
      "cell_type": "code",
      "source": [
        "test_gen = generator.flow(test_subjects.index, test_targets)"
      ],
      "metadata": {
        "id": "zB8tK-MeoZxp"
      },
      "execution_count": 21,
      "outputs": []
    },
    {
      "cell_type": "code",
      "source": [
        "test_metrics = model.evaluate(test_gen)\n",
        "print(\"\\nTest Set Metrics:\")\n",
        "for name, val in zip(model.metrics_names, test_metrics):\n",
        "    print(\"\\t{}: {:0.4f}\".format(name, val))"
      ],
      "metadata": {
        "colab": {
          "base_uri": "https://localhost:8080/"
        },
        "id": "R1B3FgnKobV6",
        "outputId": "f0fa1c70-b3d3-4a17-c050-3b904598c94c"
      },
      "execution_count": 22,
      "outputs": [
        {
          "output_type": "stream",
          "name": "stdout",
          "text": [
            "1/1 [==============================] - 0s 59ms/step - loss: 0.8144 - acc: 0.7785\n",
            "\n",
            "Test Set Metrics:\n",
            "\tloss: 0.8144\n",
            "\tacc: 0.7785\n"
          ]
        }
      ]
    },
    {
      "cell_type": "code",
      "source": [
        "all_nodes = node_subjects.index\n",
        "all_gen = generator.flow(all_nodes)\n",
        "all_predictions = model.predict(all_gen)"
      ],
      "metadata": {
        "colab": {
          "base_uri": "https://localhost:8080/"
        },
        "id": "xzbuYT6vodJS",
        "outputId": "adc3f813-5f2a-4bad-e16f-735d0f9b7fc2"
      },
      "execution_count": 23,
      "outputs": [
        {
          "output_type": "stream",
          "name": "stdout",
          "text": [
            "1/1 [==============================] - 0s 181ms/step\n"
          ]
        }
      ]
    },
    {
      "cell_type": "code",
      "source": [
        "node_predictions = target_encoding.inverse_transform(all_predictions.squeeze())"
      ],
      "metadata": {
        "id": "R96S4wgaofNE"
      },
      "execution_count": 24,
      "outputs": []
    },
    {
      "cell_type": "code",
      "source": [
        "\n",
        "\n",
        "df = pd.DataFrame({\"Predicted\": node_predictions, \"True\": node_subjects})\n",
        "df.head(20)\n",
        "\n"
      ],
      "metadata": {
        "colab": {
          "base_uri": "https://localhost:8080/",
          "height": 677
        },
        "id": "xgKSAnaQohRj",
        "outputId": "642921b4-7743-4e58-b6e7-7ae4c5589951"
      },
      "execution_count": 25,
      "outputs": [
        {
          "output_type": "execute_result",
          "data": {
            "text/plain": [
              "                      Predicted                    True\n",
              "31336     Probabilistic_Methods         Neural_Networks\n",
              "1061127           Rule_Learning           Rule_Learning\n",
              "1106406  Reinforcement_Learning  Reinforcement_Learning\n",
              "13195    Reinforcement_Learning  Reinforcement_Learning\n",
              "37879     Probabilistic_Methods   Probabilistic_Methods\n",
              "1126012   Probabilistic_Methods   Probabilistic_Methods\n",
              "1107140  Reinforcement_Learning                  Theory\n",
              "1102850                  Theory         Neural_Networks\n",
              "31349     Probabilistic_Methods         Neural_Networks\n",
              "1106418                  Theory                  Theory\n",
              "1123188         Neural_Networks         Neural_Networks\n",
              "1128990         Neural_Networks      Genetic_Algorithms\n",
              "109323    Probabilistic_Methods   Probabilistic_Methods\n",
              "217139   Reinforcement_Learning              Case_Based\n",
              "31353     Probabilistic_Methods         Neural_Networks\n",
              "32083           Neural_Networks         Neural_Networks\n",
              "1126029  Reinforcement_Learning  Reinforcement_Learning\n",
              "1118017         Neural_Networks         Neural_Networks\n",
              "49482           Neural_Networks         Neural_Networks\n",
              "753265    Probabilistic_Methods         Neural_Networks"
            ],
            "text/html": [
              "\n",
              "  <div id=\"df-766ffcd4-c41a-4a3b-8394-420fa9b8e8b4\">\n",
              "    <div class=\"colab-df-container\">\n",
              "      <div>\n",
              "<style scoped>\n",
              "    .dataframe tbody tr th:only-of-type {\n",
              "        vertical-align: middle;\n",
              "    }\n",
              "\n",
              "    .dataframe tbody tr th {\n",
              "        vertical-align: top;\n",
              "    }\n",
              "\n",
              "    .dataframe thead th {\n",
              "        text-align: right;\n",
              "    }\n",
              "</style>\n",
              "<table border=\"1\" class=\"dataframe\">\n",
              "  <thead>\n",
              "    <tr style=\"text-align: right;\">\n",
              "      <th></th>\n",
              "      <th>Predicted</th>\n",
              "      <th>True</th>\n",
              "    </tr>\n",
              "  </thead>\n",
              "  <tbody>\n",
              "    <tr>\n",
              "      <th>31336</th>\n",
              "      <td>Probabilistic_Methods</td>\n",
              "      <td>Neural_Networks</td>\n",
              "    </tr>\n",
              "    <tr>\n",
              "      <th>1061127</th>\n",
              "      <td>Rule_Learning</td>\n",
              "      <td>Rule_Learning</td>\n",
              "    </tr>\n",
              "    <tr>\n",
              "      <th>1106406</th>\n",
              "      <td>Reinforcement_Learning</td>\n",
              "      <td>Reinforcement_Learning</td>\n",
              "    </tr>\n",
              "    <tr>\n",
              "      <th>13195</th>\n",
              "      <td>Reinforcement_Learning</td>\n",
              "      <td>Reinforcement_Learning</td>\n",
              "    </tr>\n",
              "    <tr>\n",
              "      <th>37879</th>\n",
              "      <td>Probabilistic_Methods</td>\n",
              "      <td>Probabilistic_Methods</td>\n",
              "    </tr>\n",
              "    <tr>\n",
              "      <th>1126012</th>\n",
              "      <td>Probabilistic_Methods</td>\n",
              "      <td>Probabilistic_Methods</td>\n",
              "    </tr>\n",
              "    <tr>\n",
              "      <th>1107140</th>\n",
              "      <td>Reinforcement_Learning</td>\n",
              "      <td>Theory</td>\n",
              "    </tr>\n",
              "    <tr>\n",
              "      <th>1102850</th>\n",
              "      <td>Theory</td>\n",
              "      <td>Neural_Networks</td>\n",
              "    </tr>\n",
              "    <tr>\n",
              "      <th>31349</th>\n",
              "      <td>Probabilistic_Methods</td>\n",
              "      <td>Neural_Networks</td>\n",
              "    </tr>\n",
              "    <tr>\n",
              "      <th>1106418</th>\n",
              "      <td>Theory</td>\n",
              "      <td>Theory</td>\n",
              "    </tr>\n",
              "    <tr>\n",
              "      <th>1123188</th>\n",
              "      <td>Neural_Networks</td>\n",
              "      <td>Neural_Networks</td>\n",
              "    </tr>\n",
              "    <tr>\n",
              "      <th>1128990</th>\n",
              "      <td>Neural_Networks</td>\n",
              "      <td>Genetic_Algorithms</td>\n",
              "    </tr>\n",
              "    <tr>\n",
              "      <th>109323</th>\n",
              "      <td>Probabilistic_Methods</td>\n",
              "      <td>Probabilistic_Methods</td>\n",
              "    </tr>\n",
              "    <tr>\n",
              "      <th>217139</th>\n",
              "      <td>Reinforcement_Learning</td>\n",
              "      <td>Case_Based</td>\n",
              "    </tr>\n",
              "    <tr>\n",
              "      <th>31353</th>\n",
              "      <td>Probabilistic_Methods</td>\n",
              "      <td>Neural_Networks</td>\n",
              "    </tr>\n",
              "    <tr>\n",
              "      <th>32083</th>\n",
              "      <td>Neural_Networks</td>\n",
              "      <td>Neural_Networks</td>\n",
              "    </tr>\n",
              "    <tr>\n",
              "      <th>1126029</th>\n",
              "      <td>Reinforcement_Learning</td>\n",
              "      <td>Reinforcement_Learning</td>\n",
              "    </tr>\n",
              "    <tr>\n",
              "      <th>1118017</th>\n",
              "      <td>Neural_Networks</td>\n",
              "      <td>Neural_Networks</td>\n",
              "    </tr>\n",
              "    <tr>\n",
              "      <th>49482</th>\n",
              "      <td>Neural_Networks</td>\n",
              "      <td>Neural_Networks</td>\n",
              "    </tr>\n",
              "    <tr>\n",
              "      <th>753265</th>\n",
              "      <td>Probabilistic_Methods</td>\n",
              "      <td>Neural_Networks</td>\n",
              "    </tr>\n",
              "  </tbody>\n",
              "</table>\n",
              "</div>\n",
              "      <button class=\"colab-df-convert\" onclick=\"convertToInteractive('df-766ffcd4-c41a-4a3b-8394-420fa9b8e8b4')\"\n",
              "              title=\"Convert this dataframe to an interactive table.\"\n",
              "              style=\"display:none;\">\n",
              "        \n",
              "  <svg xmlns=\"http://www.w3.org/2000/svg\" height=\"24px\"viewBox=\"0 0 24 24\"\n",
              "       width=\"24px\">\n",
              "    <path d=\"M0 0h24v24H0V0z\" fill=\"none\"/>\n",
              "    <path d=\"M18.56 5.44l.94 2.06.94-2.06 2.06-.94-2.06-.94-.94-2.06-.94 2.06-2.06.94zm-11 1L8.5 8.5l.94-2.06 2.06-.94-2.06-.94L8.5 2.5l-.94 2.06-2.06.94zm10 10l.94 2.06.94-2.06 2.06-.94-2.06-.94-.94-2.06-.94 2.06-2.06.94z\"/><path d=\"M17.41 7.96l-1.37-1.37c-.4-.4-.92-.59-1.43-.59-.52 0-1.04.2-1.43.59L10.3 9.45l-7.72 7.72c-.78.78-.78 2.05 0 2.83L4 21.41c.39.39.9.59 1.41.59.51 0 1.02-.2 1.41-.59l7.78-7.78 2.81-2.81c.8-.78.8-2.07 0-2.86zM5.41 20L4 18.59l7.72-7.72 1.47 1.35L5.41 20z\"/>\n",
              "  </svg>\n",
              "      </button>\n",
              "      \n",
              "  <style>\n",
              "    .colab-df-container {\n",
              "      display:flex;\n",
              "      flex-wrap:wrap;\n",
              "      gap: 12px;\n",
              "    }\n",
              "\n",
              "    .colab-df-convert {\n",
              "      background-color: #E8F0FE;\n",
              "      border: none;\n",
              "      border-radius: 50%;\n",
              "      cursor: pointer;\n",
              "      display: none;\n",
              "      fill: #1967D2;\n",
              "      height: 32px;\n",
              "      padding: 0 0 0 0;\n",
              "      width: 32px;\n",
              "    }\n",
              "\n",
              "    .colab-df-convert:hover {\n",
              "      background-color: #E2EBFA;\n",
              "      box-shadow: 0px 1px 2px rgba(60, 64, 67, 0.3), 0px 1px 3px 1px rgba(60, 64, 67, 0.15);\n",
              "      fill: #174EA6;\n",
              "    }\n",
              "\n",
              "    [theme=dark] .colab-df-convert {\n",
              "      background-color: #3B4455;\n",
              "      fill: #D2E3FC;\n",
              "    }\n",
              "\n",
              "    [theme=dark] .colab-df-convert:hover {\n",
              "      background-color: #434B5C;\n",
              "      box-shadow: 0px 1px 3px 1px rgba(0, 0, 0, 0.15);\n",
              "      filter: drop-shadow(0px 1px 2px rgba(0, 0, 0, 0.3));\n",
              "      fill: #FFFFFF;\n",
              "    }\n",
              "  </style>\n",
              "\n",
              "      <script>\n",
              "        const buttonEl =\n",
              "          document.querySelector('#df-766ffcd4-c41a-4a3b-8394-420fa9b8e8b4 button.colab-df-convert');\n",
              "        buttonEl.style.display =\n",
              "          google.colab.kernel.accessAllowed ? 'block' : 'none';\n",
              "\n",
              "        async function convertToInteractive(key) {\n",
              "          const element = document.querySelector('#df-766ffcd4-c41a-4a3b-8394-420fa9b8e8b4');\n",
              "          const dataTable =\n",
              "            await google.colab.kernel.invokeFunction('convertToInteractive',\n",
              "                                                     [key], {});\n",
              "          if (!dataTable) return;\n",
              "\n",
              "          const docLinkHtml = 'Like what you see? Visit the ' +\n",
              "            '<a target=\"_blank\" href=https://colab.research.google.com/notebooks/data_table.ipynb>data table notebook</a>'\n",
              "            + ' to learn more about interactive tables.';\n",
              "          element.innerHTML = '';\n",
              "          dataTable['output_type'] = 'display_data';\n",
              "          await google.colab.output.renderOutput(dataTable, element);\n",
              "          const docLink = document.createElement('div');\n",
              "          docLink.innerHTML = docLinkHtml;\n",
              "          element.appendChild(docLink);\n",
              "        }\n",
              "      </script>\n",
              "    </div>\n",
              "  </div>\n",
              "  "
            ]
          },
          "metadata": {},
          "execution_count": 25
        }
      ]
    },
    {
      "cell_type": "code",
      "source": [
        "embedding_model = Model(inputs=x_inp, outputs=x_out)"
      ],
      "metadata": {
        "id": "jVvi81MJolrD"
      },
      "execution_count": 26,
      "outputs": []
    },
    {
      "cell_type": "code",
      "source": [
        "\n",
        "\n",
        "emb = embedding_model.predict(all_gen)\n",
        "emb.shape\n",
        "\n"
      ],
      "metadata": {
        "colab": {
          "base_uri": "https://localhost:8080/"
        },
        "id": "5ifxkDswonWl",
        "outputId": "06ca7003-4c9f-4018-a170-cd1770d4a7b2"
      },
      "execution_count": 27,
      "outputs": [
        {
          "output_type": "stream",
          "name": "stdout",
          "text": [
            "1/1 [==============================] - 0s 129ms/step\n"
          ]
        },
        {
          "output_type": "execute_result",
          "data": {
            "text/plain": [
              "(1, 2708, 16)"
            ]
          },
          "metadata": {},
          "execution_count": 27
        }
      ]
    },
    {
      "cell_type": "code",
      "source": [
        "transform = TSNE\n",
        "X = emb.squeeze(0)\n",
        "trans = transform(n_components=2)\n",
        "X_reduced = trans.fit_transform(X)\n",
        "X_reduced.shape\n"
      ],
      "metadata": {
        "colab": {
          "base_uri": "https://localhost:8080/"
        },
        "id": "xIMVgCiTovPE",
        "outputId": "2d7178a4-7c4c-4b05-93fc-36b7d5282eaf"
      },
      "execution_count": 28,
      "outputs": [
        {
          "output_type": "stream",
          "name": "stderr",
          "text": [
            "/usr/local/lib/python3.7/dist-packages/sklearn/manifold/_t_sne.py:783: FutureWarning: The default initialization in TSNE will change from 'random' to 'pca' in 1.2.\n",
            "  FutureWarning,\n",
            "/usr/local/lib/python3.7/dist-packages/sklearn/manifold/_t_sne.py:793: FutureWarning: The default learning rate in TSNE will change from 200.0 to 'auto' in 1.2.\n",
            "  FutureWarning,\n"
          ]
        },
        {
          "output_type": "execute_result",
          "data": {
            "text/plain": [
              "(2708, 2)"
            ]
          },
          "metadata": {},
          "execution_count": 28
        }
      ]
    },
    {
      "cell_type": "code",
      "source": [
        "fig, ax = plt.subplots(figsize=(7, 7))\n",
        "ax.scatter(\n",
        "    X_reduced[:, 0],\n",
        "    X_reduced[:, 1],\n",
        "    c=node_subjects.astype(\"category\").cat.codes,\n",
        "    cmap=\"jet\",\n",
        "    alpha=0.7,\n",
        ")\n",
        "ax.set(\n",
        "    aspect=\"equal\",\n",
        "    xlabel=\"$X_1$\",\n",
        "    ylabel=\"$X_2$\",\n",
        "    title=f\"{transform.__name__} visualization of GCN embeddings for cora dataset\",\n",
        ")"
      ],
      "metadata": {
        "colab": {
          "base_uri": "https://localhost:8080/",
          "height": 531
        },
        "id": "P91huncpo4r-",
        "outputId": "d1b80a15-5d02-4dfd-9b14-3d9391d8c70e"
      },
      "execution_count": 29,
      "outputs": [
        {
          "output_type": "execute_result",
          "data": {
            "text/plain": [
              "[Text(0, 0.5, '$X_2$'),\n",
              " Text(0.5, 0, '$X_1$'),\n",
              " Text(0.5, 1.0, 'TSNE visualization of GCN embeddings for cora dataset'),\n",
              " None]"
            ]
          },
          "metadata": {},
          "execution_count": 29
        },
        {
          "output_type": "display_data",
          "data": {
            "text/plain": [
              "<Figure size 504x504 with 1 Axes>"
            ],
            "image/png": "[encoded data removed]"
          },
          "metadata": {
            "needs_background": "light"
          }
        }
      ]
    }
  ]
}